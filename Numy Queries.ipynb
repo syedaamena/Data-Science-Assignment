
import numpy as np
import pandas as pd

# Load the dataset from CSV (replace 'indian_cricket_team.csv' with your actual filename)
df = pd.read_csv("indian_cricket_team.csv")

# Convert columns to NumPy arrays
ages = df["Age"].to_numpy()
matches = df["Matches Played"].to_numpy()
batting_avg = df["Batting Average"].to_numpy()
strike_rate = df["Strike Rate"].to_numpy()

# Query 1: Convert 'Age' column to NumPy array
print("Age Array:", ages)

# Query 2: Find the average age of players
print("Average Age:", np.mean(ages))

# Query 3: Find the oldest and youngest player age
print("Oldest Age:", np.max(ages))
print("Youngest Age:", np.min(ages))

# Query 4: Count the total number of players above 30 years old
print("Players above 30:", np.sum(ages > 30))

# Query 5: Find the median batting average
print("Median Batting Average:", np.median(batting_avg))

# Query 6: Find the standard deviation of strike rates
print("Standard Deviation of Strike Rate:", np.std(strike_rate))

# Query 7: Find the 90th percentile of batting average
print("90th Percentile of Batting Average:", np.percentile(batting_avg, 90))

# Query 8: Find the number of players with strike rate above 150
print("Players with SR > 150:", np.sum(strike_rate > 150))

# Query 9: Reshape the first 20 batting averages into a 4x5 matrix (adjust if <20)
if len(batting_avg) >= 20:
    reshaped_matrix = batting_avg[:20].reshape(4, 5)
    print("Reshaped Batting Average Matrix:\n", reshaped_matrix)

    # Query 10: Compute row-wise sum of reshaped matrix
    print("Row-wise Sum:", np.sum(reshaped_matrix, axis=1))

    # Query 11: Compute column-wise mean of reshaped matrix
    print("Column-wise Mean:", np.mean(reshaped_matrix, axis=0))

    # Query 12: Transpose the reshaped matrix
    print("Transposed Matrix:\n", reshaped_matrix.T)
else:
    print("Not enough data to reshape into 4x5 matrix.")

# Query 13: Find the variance of batting average
print("Variance of Batting Average:", np.var(batting_avg))

# Query 14: Stack age and matches played horizontally
stacked_data = np.column_stack((ages, matches))
print("Stacked Age and Matches Played:\n", stacked_data)

# Query 15: Split the batting average array into 5 equal parts
split_arrays = np.array_split(batting_avg, 5)
print("Split Batting Average Arrays:")
for i, part in enumerate(split_arrays):
    print(f"Part {i+1}:", part)
