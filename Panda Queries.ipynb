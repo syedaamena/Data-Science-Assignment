{
 "cells": [
  {
   "cell_type": "code",
   "execution_count": 17,
   "id": "24cd0fcc-2bb1-49e7-9459-3546c44f2e4a",
   "metadata": {},
   "outputs": [],
   "source": [
    "import pandas as pd"
   ]
  },
  {
   "cell_type": "code",
   "execution_count": 23,
   "id": "a0ca927b-06f0-42ab-9f46-838f117e1083",
   "metadata": {},
   "outputs": [],
   "source": [
    "# Load the dataset (replace 'movies.csv' with the actual file name)\n",
    "df = pd.read_excel(\"C:/Users/PC-FMS/Documents/ME/Codegnan/AI/Movies_Dataset.xlsx\")\n"
   ]
  },
  {
   "cell_type": "code",
   "execution_count": 27,
   "id": "e0d95aa9-e78a-4db0-82ad-5c612ea08002",
   "metadata": {},
   "outputs": [
    {
     "name": "stdout",
     "output_type": "stream",
     "text": [
      "Action Movies:\n",
      "     Movie Name   Genre  Release_Year  IMDb_Rating  Revenue\n",
      "4      Movie 5  Action          2012          6.6  1205.51\n",
      "34    Movie 35  Action          2009          8.7   545.60\n",
      "64    Movie 65  Action          2023          7.7  1137.79\n",
      "65    Movie 66  Action          1999          3.1  1335.85\n",
      "73    Movie 74  Action          2001          4.1   350.80\n",
      "..         ...     ...           ...          ...      ...\n",
      "930  Movie 931  Action          1994          8.6  1863.66\n",
      "944  Movie 945  Action          2004          7.5  1709.81\n",
      "980  Movie 981  Action          2022          5.2    28.40\n",
      "988  Movie 989  Action          2023          4.1   231.67\n",
      "998  Movie 999  Action          1996          8.9   941.67\n",
      "\n",
      "[104 rows x 5 columns]\n"
     ]
    }
   ],
   "source": [
    "\n",
    "# Query 1: Select all movies in the \"Action\" genre\n",
    "action_movies = df[df[\"Genre\"] == \"Action\"]\n",
    "print(\"Action Movies:\\n\", action_movies)"
   ]
  },
  {
   "cell_type": "code",
   "execution_count": 31,
   "id": "788b0ac8-5b45-450b-b092-e0d84f68796c",
   "metadata": {},
   "outputs": [
    {
     "name": "stdout",
     "output_type": "stream",
     "text": [
      "Movies After 2000:\n",
      "     Movie Name     Genre  Release_Year  IMDb_Rating  Revenue\n",
      "2      Movie 3   Romance          2002          5.2  1122.13\n",
      "3      Movie 4   Romance          2001          4.5   581.84\n",
      "4      Movie 5    Action          2012          6.6  1205.51\n",
      "6      Movie 7   Mystery          2021          5.1  1683.99\n",
      "7      Movie 8    Comedy          2005          4.0  1062.13\n",
      "..         ...       ...           ...          ...      ...\n",
      "988  Movie 989    Action          2023          4.1   231.67\n",
      "989  Movie 990   Fantasy          2004          1.6  1056.58\n",
      "991  Movie 992  Thriller          2004          9.2   251.25\n",
      "995  Movie 996    Sci-Fi          2013          8.7   456.39\n",
      "997  Movie 998   Fantasy          2016          8.1  1161.96\n",
      "\n",
      "[518 rows x 5 columns]\n"
     ]
    }
   ],
   "source": [
    "# Query 2: Select movies released after 2000\n",
    "movies_after_2000 = df[df[\"Release_Year\"] > 2000]\n",
    "print(\"Movies After 2000:\\n\", movies_after_2000)"
   ]
  },
  {
   "cell_type": "code",
   "execution_count": 33,
   "id": "9e6a4bf8-e1ee-460e-8c1e-9b823c91fbc3",
   "metadata": {},
   "outputs": [
    {
     "name": "stdout",
     "output_type": "stream",
     "text": [
      "Movies with IMDb > 8.5:\n",
      "      Movie Name      Genre  Release_Year  IMDb_Rating  Revenue\n",
      "34     Movie 35     Action          2009          8.7   545.60\n",
      "51     Movie 52    Mystery          1998          9.0  1089.93\n",
      "56     Movie 57     Comedy          1993          9.2  1586.13\n",
      "74     Movie 75  Adventure          1999          8.6  1688.49\n",
      "81     Movie 82    Mystery          1997          8.6  1238.32\n",
      "..          ...        ...           ...          ...      ...\n",
      "991   Movie 992   Thriller          2004          9.2   251.25\n",
      "992   Movie 993     Horror          1985          9.6   951.23\n",
      "995   Movie 996     Sci-Fi          2013          8.7   456.39\n",
      "998   Movie 999     Action          1996          8.9   941.67\n",
      "999  Movie 1000     Horror          1995          9.4  1390.70\n",
      "\n",
      "[148 rows x 5 columns]\n"
     ]
    }
   ],
   "source": [
    "# Query 3: Select movies with an IMDb rating greater than 8.5\n",
    "high_rated_movies = df[df[\"IMDb_Rating\"] > 8.5]\n",
    "print(\"Movies with IMDb > 8.5:\\n\", high_rated_movies)"
   ]
  },
  {
   "cell_type": "code",
   "execution_count": 35,
   "id": "0315869a-f74e-46c6-9d2d-5dfe3bdb9187",
   "metadata": {},
   "outputs": [
    {
     "name": "stdout",
     "output_type": "stream",
     "text": [
      "Movie Name & Genre:\n",
      "      Movie Name      Genre\n",
      "0       Movie 1     Sci-Fi\n",
      "1       Movie 2  Adventure\n",
      "2       Movie 3    Romance\n",
      "3       Movie 4    Romance\n",
      "4       Movie 5     Action\n",
      "..          ...        ...\n",
      "995   Movie 996     Sci-Fi\n",
      "996   Movie 997  Adventure\n",
      "997   Movie 998    Fantasy\n",
      "998   Movie 999     Action\n",
      "999  Movie 1000     Horror\n",
      "\n",
      "[1000 rows x 2 columns]\n"
     ]
    }
   ],
   "source": [
    "# Query 4: Select only \"Movie Name\" and \"Genre\" columns\n",
    "movie_genre = df[[\"Movie Name\", \"Genre\"]]\n",
    "print(\"Movie Name & Genre:\\n\", movie_genre)"
   ]
  },
  {
   "cell_type": "code",
   "execution_count": 39,
   "id": "9da12441-1b63-4ca8-8295-f56cab0ff3e1",
   "metadata": {},
   "outputs": [
    {
     "name": "stdout",
     "output_type": "stream",
     "text": [
      "Movies from 1990 to 2010:\n",
      "      Movie Name      Genre  Release_Year  IMDb_Rating  Revenue\n",
      "0       Movie 1     Sci-Fi          2000          6.0  1680.53\n",
      "1       Movie 2  Adventure          2000          2.2   987.24\n",
      "2       Movie 3    Romance          2002          5.2  1122.13\n",
      "3       Movie 4    Romance          2001          4.5   581.84\n",
      "5       Movie 6    Fantasy          1997          2.4   485.22\n",
      "..          ...        ...           ...          ...      ...\n",
      "991   Movie 992   Thriller          2004          9.2   251.25\n",
      "994   Movie 995     Sci-Fi          1997          2.0   342.98\n",
      "996   Movie 997  Adventure          1993          6.2  1255.27\n",
      "998   Movie 999     Action          1996          8.9   941.67\n",
      "999  Movie 1000     Horror          1995          9.4  1390.70\n",
      "\n",
      "[500 rows x 5 columns]\n"
     ]
    }
   ],
   "source": [
    "# Query 5: Select movies released between 1990 and 2010\n",
    "movies_1990_2010 = df[(df[\"Release_Year\"] >= 1990) & (df[\"Release_Year\"] <= 2010)]\n",
    "print(\"Movies from 1990 to 2010:\\n\", movies_1990_2010)"
   ]
  },
  {
   "cell_type": "code",
   "execution_count": 43,
   "id": "775c5e52-cc4d-4031-89c5-dd94ebc05181",
   "metadata": {},
   "outputs": [
    {
     "name": "stdout",
     "output_type": "stream",
     "text": [
      "Movies per Genre:\n",
      " Genre\n",
      "Drama        113\n",
      "Comedy       110\n",
      "Fantasy      107\n",
      "Thriller     107\n",
      "Action       104\n",
      "Adventure     96\n",
      "Sci-Fi        93\n",
      "Romance       91\n",
      "Horror        90\n",
      "Mystery       89\n",
      "Name: count, dtype: int64\n"
     ]
    }
   ],
   "source": [
    "# Query 6: Count the number of movies in each genre\n",
    "genre_counts = df[\"Genre\"].value_counts()\n",
    "print(\"Movies per Genre:\\n\", genre_counts)"
   ]
  },
  {
   "cell_type": "code",
   "execution_count": 45,
   "id": "3e51c24e-41b5-4a01-885f-03ad785bbae3",
   "metadata": {},
   "outputs": [
    {
     "name": "stdout",
     "output_type": "stream",
     "text": [
      "Highest IMDb Rated Movie:\n",
      "     Movie Name    Genre  Release_Year  IMDb_Rating  Revenue\n",
      "106  Movie 107  Romance          2007         10.0  1837.45\n",
      "241  Movie 242   Comedy          2006         10.0   802.61\n",
      "472  Movie 473  Fantasy          1985         10.0   845.18\n",
      "564  Movie 565   Action          2020         10.0   943.50\n",
      "610  Movie 611  Mystery          2017         10.0  1355.06\n",
      "628  Movie 629  Mystery          1994         10.0   644.31\n"
     ]
    }
   ],
   "source": [
    "# Query 7: Find the highest IMDb-rated movie\n",
    "highest_rated_movie = df[df[\"IMDb_Rating\"] == df[\"IMDb_Rating\"].max()]\n",
    "print(\"Highest IMDb Rated Movie:\\n\", highest_rated_movie)"
   ]
  },
  {
   "cell_type": "code",
   "execution_count": 47,
   "id": "fcaefa32-45f5-458c-b9dc-bd11f3d1fc14",
   "metadata": {},
   "outputs": [
    {
     "name": "stdout",
     "output_type": "stream",
     "text": [
      "Average IMDb Rating: 5.458600000000001\n"
     ]
    }
   ],
   "source": [
    "# Query 8: Find the average IMDb rating of all movies\n",
    "average_imdb = df[\"IMDb_Rating\"].mean()\n",
    "print(\"Average IMDb Rating:\", average_imdb)"
   ]
  },
  {
   "cell_type": "code",
   "execution_count": 49,
   "id": "2d82ce79-974e-462b-bb15-17df9b00f364",
   "metadata": {},
   "outputs": [
    {
     "name": "stdout",
     "output_type": "stream",
     "text": [
      "Total Box Office Collection: 1049716.26\n"
     ]
    }
   ],
   "source": [
    "# Query 9: Find the total box office collection of all movies\n",
    "total_revenue = df[\"Revenue\"].sum()\n",
    "print(\"Total Box Office Collection:\", total_revenue)"
   ]
  },
  {
   "cell_type": "code",
   "execution_count": 51,
   "id": "28fcd668-b27e-4aec-a1f1-5c815a837d7c",
   "metadata": {},
   "outputs": [
    {
     "name": "stdout",
     "output_type": "stream",
     "text": [
      "Movies with Revenue > 500M:\n",
      "      Movie Name      Genre  Release_Year  IMDb_Rating  Revenue\n",
      "0       Movie 1     Sci-Fi          2000          6.0  1680.53\n",
      "1       Movie 2  Adventure          2000          2.2   987.24\n",
      "2       Movie 3    Romance          2002          5.2  1122.13\n",
      "3       Movie 4    Romance          2001          4.5   581.84\n",
      "4       Movie 5     Action          2012          6.6  1205.51\n",
      "..          ...        ...           ...          ...      ...\n",
      "993   Movie 994  Adventure          1989          7.3  1273.65\n",
      "996   Movie 997  Adventure          1993          6.2  1255.27\n",
      "997   Movie 998    Fantasy          2016          8.1  1161.96\n",
      "998   Movie 999     Action          1996          8.9   941.67\n",
      "999  Movie 1000     Horror          1995          9.4  1390.70\n",
      "\n",
      "[774 rows x 5 columns]\n"
     ]
    }
   ],
   "source": [
    "# Query 10: Select movies with box office earnings greater than 500 million\n",
    "high_revenue_movies = df[df[\"Revenue\"] > 500]\n",
    "print(\"Movies with Revenue > 500M:\\n\", high_revenue_movies)"
   ]
  },
  {
   "cell_type": "code",
   "execution_count": 53,
   "id": "378fb959-f1f9-483c-9ed9-e7cbfde96aed",
   "metadata": {},
   "outputs": [
    {
     "name": "stdout",
     "output_type": "stream",
     "text": [
      "Movies Ranked by IMDb:\n",
      "      Movie Name  IMDb_Rating  IMDb Rank\n",
      "0       Movie 1          6.0      432.5\n",
      "1       Movie 2          2.2      869.0\n",
      "2       Movie 3          5.2      529.5\n",
      "3       Movie 4          4.5      609.5\n",
      "4       Movie 5          6.6      353.5\n",
      "..          ...          ...        ...\n",
      "995   Movie 996          8.7      131.5\n",
      "996   Movie 997          6.2      406.5\n",
      "997   Movie 998          8.1      199.5\n",
      "998   Movie 999          8.9      104.5\n",
      "999  Movie 1000          9.4       54.0\n",
      "\n",
      "[1000 rows x 3 columns]\n"
     ]
    }
   ],
   "source": [
    "# Query 11: Rank movies based on IMDb rating\n",
    "df[\"IMDb Rank\"] = df[\"IMDb_Rating\"].rank(ascending=False)\n",
    "print(\"Movies Ranked by IMDb:\\n\", df[[\"Movie Name\", \"IMDb_Rating\", \"IMDb Rank\"]])"
   ]
  },
  {
   "cell_type": "code",
   "execution_count": 55,
   "id": "8fbd8ce5-405e-4eb2-a8eb-b6adcbd20aed",
   "metadata": {},
   "outputs": [
    {
     "name": "stdout",
     "output_type": "stream",
     "text": [
      "Movies Sorted by Release Year:\n",
      "     Movie Name      Genre  Release_Year  IMDb_Rating  Revenue  IMDb Rank\n",
      "320  Movie 321    Romance          2024          4.2   477.47      650.5\n",
      "211  Movie 212     Comedy          2024          1.5   837.32      957.0\n",
      "489  Movie 490   Thriller          2024          3.2  1536.79      765.5\n",
      "808  Movie 809     Action          2024          6.0   714.96      432.5\n",
      "917  Movie 918     Horror          2024          1.1  1042.80      991.0\n",
      "..         ...        ...           ...          ...      ...        ...\n",
      "509  Movie 510    Fantasy          1980          6.3  1260.11      392.0\n",
      "798  Movie 799      Drama          1980          3.1  1587.13      774.0\n",
      "496  Movie 497    Fantasy          1980          4.7  1683.97      588.0\n",
      "794  Movie 795  Adventure          1980          4.5  1346.01      609.5\n",
      "170  Movie 171    Mystery          1980          4.6  1684.78      599.0\n",
      "\n",
      "[1000 rows x 6 columns]\n"
     ]
    }
   ],
   "source": [
    "# Query 12: Sort movies by release year in descending order\n",
    "sorted_movies = df.sort_values(by=\"Release_Year\", ascending=False)\n",
    "print(\"Movies Sorted by Release Year:\\n\", sorted_movies)"
   ]
  },
  {
   "cell_type": "code",
   "execution_count": 57,
   "id": "1a90fbc9-9679-4213-923f-7d6310927e50",
   "metadata": {},
   "outputs": [
    {
     "name": "stdout",
     "output_type": "stream",
     "text": [
      "Duplicate Movie Names:\n",
      "    Movie Name      Genre  Release_Year  IMDb_Rating  Revenue  IMDb Rank\n",
      "9    Movie 10      Drama          1996          3.2  1352.66      765.5\n",
      "10   Movie 11    Mystery          2003          6.3   596.43      392.0\n",
      "11   Movie 12     Sci-Fi          1988          3.0  1134.01      786.5\n",
      "12   Movie 10      Drama          1996          3.2  1352.66      765.5\n",
      "13   Movie 11    Mystery          2003          6.3   596.43      392.0\n",
      "14   Movie 12     Sci-Fi          1988          3.0  1134.01      786.5\n",
      "15   Movie 16     Comedy          2006          2.3  1322.79      856.0\n",
      "16   Movie 17     Horror          2007          6.2  1114.31      406.5\n",
      "17   Movie 18  Adventure          1998          7.9  1426.73      221.0\n",
      "18   Movie 19     Comedy          1986          6.0  1783.44      432.5\n",
      "19   Movie 20    Fantasy          1982          6.9  1598.08      329.0\n",
      "20   Movie 16     Comedy          2006          2.3  1322.79      856.0\n",
      "21   Movie 17     Horror          2007          6.2  1114.31      406.5\n",
      "22   Movie 18  Adventure          1998          7.9  1426.73      221.0\n",
      "23   Movie 19     Comedy          1986          6.0  1783.44      432.5\n",
      "24   Movie 20    Fantasy          1982          6.9  1598.08      329.0\n"
     ]
    }
   ],
   "source": [
    "# Query 13: Find all duplicate movie names (if any)\n",
    "duplicate_movies = df[df.duplicated(subset=[\"Movie Name\"], keep=False)]\n",
    "print(\"Duplicate Movie Names:\\n\", duplicate_movies)"
   ]
  },
  {
   "cell_type": "code",
   "execution_count": 59,
   "id": "c5163d75-a714-4471-9380-9a6bbc7695c9",
   "metadata": {},
   "outputs": [
    {
     "name": "stdout",
     "output_type": "stream",
     "text": [
      "Movies After Removing Duplicates:\n",
      "      Movie Name      Genre  Release_Year  IMDb_Rating  Revenue  IMDb Rank\n",
      "0       Movie 1     Sci-Fi          2000          6.0  1680.53      432.5\n",
      "1       Movie 2  Adventure          2000          2.2   987.24      869.0\n",
      "2       Movie 3    Romance          2002          5.2  1122.13      529.5\n",
      "3       Movie 4    Romance          2001          4.5   581.84      609.5\n",
      "4       Movie 5     Action          2012          6.6  1205.51      353.5\n",
      "..          ...        ...           ...          ...      ...        ...\n",
      "995   Movie 996     Sci-Fi          2013          8.7   456.39      131.5\n",
      "996   Movie 997  Adventure          1993          6.2  1255.27      406.5\n",
      "997   Movie 998    Fantasy          2016          8.1  1161.96      199.5\n",
      "998   Movie 999     Action          1996          8.9   941.67      104.5\n",
      "999  Movie 1000     Horror          1995          9.4  1390.70       54.0\n",
      "\n",
      "[992 rows x 6 columns]\n"
     ]
    }
   ],
   "source": [
    "\n",
    "# Query 14: Remove duplicate movie names\n",
    "df_no_duplicates = df.drop_duplicates(subset=[\"Movie Name\"])\n",
    "print(\"Movies After Removing Duplicates:\\n\", df_no_duplicates)\n"
   ]
  },
  {
   "cell_type": "code",
   "execution_count": 61,
   "id": "c3de4381-bc33-4f68-9acb-e8a4a51bca97",
   "metadata": {},
   "outputs": [
    {
     "name": "stdout",
     "output_type": "stream",
     "text": [
      "Updated Genre Names:\n",
      "      Movie Name            Genre  Release_Year  IMDb_Rating  Revenue  \\\n",
      "0       Movie 1  Science Fiction          2000          6.0  1680.53   \n",
      "1       Movie 2        Adventure          2000          2.2   987.24   \n",
      "2       Movie 3          Romance          2002          5.2  1122.13   \n",
      "3       Movie 4          Romance          2001          4.5   581.84   \n",
      "4       Movie 5           Action          2012          6.6  1205.51   \n",
      "..          ...              ...           ...          ...      ...   \n",
      "995   Movie 996  Science Fiction          2013          8.7   456.39   \n",
      "996   Movie 997        Adventure          1993          6.2  1255.27   \n",
      "997   Movie 998          Fantasy          2016          8.1  1161.96   \n",
      "998   Movie 999           Action          1996          8.9   941.67   \n",
      "999  Movie 1000           Horror          1995          9.4  1390.70   \n",
      "\n",
      "     IMDb Rank  \n",
      "0        432.5  \n",
      "1        869.0  \n",
      "2        529.5  \n",
      "3        609.5  \n",
      "4        353.5  \n",
      "..         ...  \n",
      "995      131.5  \n",
      "996      406.5  \n",
      "997      199.5  \n",
      "998      104.5  \n",
      "999       54.0  \n",
      "\n",
      "[1000 rows x 6 columns]\n"
     ]
    }
   ],
   "source": [
    "# Query 15: Replace \"Sci-Fi\" genre with \"Science Fiction\"\n",
    "df[\"Genre\"] = df[\"Genre\"].replace(\"Sci-Fi\", \"Science Fiction\")\n",
    "print(\"Updated Genre Names:\\n\", df)"
   ]
  },
  {
   "cell_type": "code",
   "execution_count": 63,
   "id": "0047da7b-1593-454b-967b-3faa7ab6db42",
   "metadata": {},
   "outputs": [
    {
     "name": "stdout",
     "output_type": "stream",
     "text": [
      "First 10 Movies:\n",
      "   Movie Name            Genre  Release_Year  IMDb_Rating  Revenue  IMDb Rank\n",
      "0    Movie 1  Science Fiction          2000          6.0  1680.53      432.5\n",
      "1    Movie 2        Adventure          2000          2.2   987.24      869.0\n",
      "2    Movie 3          Romance          2002          5.2  1122.13      529.5\n",
      "3    Movie 4          Romance          2001          4.5   581.84      609.5\n",
      "4    Movie 5           Action          2012          6.6  1205.51      353.5\n",
      "5    Movie 6          Fantasy          1997          2.4   485.22      844.5\n",
      "6    Movie 7          Mystery          2021          5.1  1683.99      545.5\n",
      "7    Movie 8           Comedy          2005          4.0  1062.13      672.5\n",
      "8    Movie 9           Horror          1992          2.8  1592.74      815.0\n",
      "9   Movie 10            Drama          1996          3.2  1352.66      765.5\n"
     ]
    }
   ],
   "source": [
    "# Query 16: Select the first 10 movies\n",
    "first_10_movies = df.head(10)\n",
    "print(\"First 10 Movies:\\n\", first_10_movies)"
   ]
  },
  {
   "cell_type": "code",
   "execution_count": 65,
   "id": "fc265f72-ff75-4594-addd-e378ca88003c",
   "metadata": {},
   "outputs": [
    {
     "name": "stdout",
     "output_type": "stream",
     "text": [
      "Last 5 Movies:\n",
      "      Movie Name            Genre  Release_Year  IMDb_Rating  Revenue  \\\n",
      "995   Movie 996  Science Fiction          2013          8.7   456.39   \n",
      "996   Movie 997        Adventure          1993          6.2  1255.27   \n",
      "997   Movie 998          Fantasy          2016          8.1  1161.96   \n",
      "998   Movie 999           Action          1996          8.9   941.67   \n",
      "999  Movie 1000           Horror          1995          9.4  1390.70   \n",
      "\n",
      "     IMDb Rank  \n",
      "995      131.5  \n",
      "996      406.5  \n",
      "997      199.5  \n",
      "998      104.5  \n",
      "999       54.0  \n"
     ]
    }
   ],
   "source": [
    "\n",
    "# Query 17: Select the last 5 movies\n",
    "last_5_movies = df.tail(5)\n",
    "print(\"Last 5 Movies:\\n\", last_5_movies)\n"
   ]
  },
  {
   "cell_type": "code",
   "execution_count": 67,
   "id": "f10b41ae-50d0-4fad-baee-cfc626f983d4",
   "metadata": {},
   "outputs": [
    {
     "name": "stdout",
     "output_type": "stream",
     "text": [
      "Average IMDb Rating per Genre:\n",
      " Genre\n",
      "Action             5.670192\n",
      "Adventure          5.012500\n",
      "Comedy             5.442727\n",
      "Drama              5.173451\n",
      "Fantasy            5.200000\n",
      "Horror             5.814444\n",
      "Mystery            5.778652\n",
      "Romance            5.938462\n",
      "Science Fiction    5.445161\n",
      "Thriller           5.267290\n",
      "Name: IMDb_Rating, dtype: float64\n"
     ]
    }
   ],
   "source": [
    "\n",
    "# Query 18: Group movies by genre and find the average IMDb rating for each genre\n",
    "avg_rating_per_genre = df.groupby(\"Genre\")[\"IMDb_Rating\"].mean()\n",
    "print(\"Average IMDb Rating per Genre:\\n\", avg_rating_per_genre)"
   ]
  },
  {
   "cell_type": "code",
   "execution_count": 69,
   "id": "943edd08-6ac9-47d9-bb57-f574852989bf",
   "metadata": {},
   "outputs": [
    {
     "name": "stdout",
     "output_type": "stream",
     "text": [
      "Movies Released per Year:\n",
      " Release_Year\n",
      "1980    26\n",
      "1981    17\n",
      "1982    21\n",
      "1983    16\n",
      "1984    16\n",
      "1985    28\n",
      "1986    21\n",
      "1987    17\n",
      "1988    20\n",
      "1989    30\n",
      "1990    21\n",
      "1991    21\n",
      "1992    26\n",
      "1993    21\n",
      "1994    23\n",
      "1995    27\n",
      "1996    26\n",
      "1997    22\n",
      "1998    29\n",
      "1999    25\n",
      "2000    29\n",
      "2001    23\n",
      "2002    24\n",
      "2003    25\n",
      "2004    20\n",
      "2005    21\n",
      "2006    23\n",
      "2007    29\n",
      "2008    24\n",
      "2009    21\n",
      "2010    20\n",
      "2011    23\n",
      "2012    20\n",
      "2013    26\n",
      "2014    20\n",
      "2015    23\n",
      "2016    14\n",
      "2017    18\n",
      "2018    18\n",
      "2019    15\n",
      "2020    20\n",
      "2021    16\n",
      "2022    25\n",
      "2023    18\n",
      "2024    32\n",
      "Name: count, dtype: int64\n"
     ]
    }
   ],
   "source": [
    "# Query 19: Find the number of movies released in each year\n",
    "movies_per_year = df[\"Release_Year\"].value_counts().sort_index()\n",
    "print(\"Movies Released per Year:\\n\", movies_per_year)"
   ]
  },
  {
   "cell_type": "code",
   "execution_count": 71,
   "id": "3d73b2f5-c8f9-49b5-9cba-ffb264f7c57c",
   "metadata": {},
   "outputs": [
    {
     "name": "stdout",
     "output_type": "stream",
     "text": [
      "Total Box Office Collection per Genre:\n",
      " Genre\n",
      "Action             111137.94\n",
      "Adventure          103864.42\n",
      "Comedy             122686.63\n",
      "Drama              120311.32\n",
      "Fantasy            109849.86\n",
      "Horror              90395.52\n",
      "Mystery             98832.93\n",
      "Romance             94413.72\n",
      "Science Fiction     85811.80\n",
      "Thriller           112412.12\n",
      "Name: Revenue, dtype: float64\n"
     ]
    }
   ],
   "source": [
    "# Query 20: Find the total box office collection per genre\n",
    "revenue_per_genre = df.groupby(\"Genre\")[\"Revenue\"].sum()\n",
    "print(\"Total Box Office Collection per Genre:\\n\", revenue_per_genre)"
   ]
  },
  {
   "cell_type": "code",
   "execution_count": null,
   "id": "4c646c24-db67-4343-9980-17219450631e",
   "metadata": {},
   "outputs": [],
   "source": []
  }
 ],
 "metadata": {
  "kernelspec": {
   "display_name": "Python [conda env:base] *",
   "language": "python",
   "name": "conda-base-py"
  },
  "language_info": {
   "codemirror_mode": {
    "name": "ipython",
    "version": 3
   },
   "file_extension": ".py",
   "mimetype": "text/x-python",
   "name": "python",
   "nbconvert_exporter": "python",
   "pygments_lexer": "ipython3",
   "version": "3.12.7"
  }
 },
 "nbformat": 4,
 "nbformat_minor": 5
}
